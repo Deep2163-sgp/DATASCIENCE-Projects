{
 "cells": [
  {
   "attachments": {},
   "cell_type": "markdown",
   "metadata": {},
   "source": [
    "STOCK MARKET PRICE PREDICTION AND FORECASTING USING LSTM"
   ]
  },
  {
   "cell_type": "code",
   "execution_count": 31,
   "metadata": {},
   "outputs": [],
   "source": [
    "import numpy as np \n",
    "import pandas as pd\n",
    "import matplotlib.pyplot as plt\n",
    "import seaborn as sns"
   ]
  },
  {
   "cell_type": "code",
   "execution_count": 32,
   "metadata": {},
   "outputs": [],
   "source": [
    "df = pd.read_csv('Stocks.csv')"
   ]
  },
  {
   "cell_type": "code",
   "execution_count": 33,
   "metadata": {},
   "outputs": [
    {
     "data": {
      "text/html": [
       "<div>\n",
       "<style scoped>\n",
       "    .dataframe tbody tr th:only-of-type {\n",
       "        vertical-align: middle;\n",
       "    }\n",
       "\n",
       "    .dataframe tbody tr th {\n",
       "        vertical-align: top;\n",
       "    }\n",
       "\n",
       "    .dataframe thead th {\n",
       "        text-align: right;\n",
       "    }\n",
       "</style>\n",
       "<table border=\"1\" class=\"dataframe\">\n",
       "  <thead>\n",
       "    <tr style=\"text-align: right;\">\n",
       "      <th></th>\n",
       "      <th>Date</th>\n",
       "      <th>Open</th>\n",
       "      <th>High</th>\n",
       "      <th>Low</th>\n",
       "      <th>Last</th>\n",
       "      <th>Close</th>\n",
       "      <th>Total Trade Quantity</th>\n",
       "      <th>Turnover (Lacs)</th>\n",
       "    </tr>\n",
       "  </thead>\n",
       "  <tbody>\n",
       "    <tr>\n",
       "      <th>0</th>\n",
       "      <td>28-09-2018</td>\n",
       "      <td>234.05</td>\n",
       "      <td>235.95</td>\n",
       "      <td>230.20</td>\n",
       "      <td>233.50</td>\n",
       "      <td>233.75</td>\n",
       "      <td>3069914</td>\n",
       "      <td>7162.35</td>\n",
       "    </tr>\n",
       "    <tr>\n",
       "      <th>1</th>\n",
       "      <td>27-09-2018</td>\n",
       "      <td>234.55</td>\n",
       "      <td>236.80</td>\n",
       "      <td>231.10</td>\n",
       "      <td>233.80</td>\n",
       "      <td>233.25</td>\n",
       "      <td>5082859</td>\n",
       "      <td>11859.95</td>\n",
       "    </tr>\n",
       "    <tr>\n",
       "      <th>2</th>\n",
       "      <td>26-09-2018</td>\n",
       "      <td>240.00</td>\n",
       "      <td>240.00</td>\n",
       "      <td>232.50</td>\n",
       "      <td>235.00</td>\n",
       "      <td>234.25</td>\n",
       "      <td>2240909</td>\n",
       "      <td>5248.60</td>\n",
       "    </tr>\n",
       "    <tr>\n",
       "      <th>3</th>\n",
       "      <td>25-09-2018</td>\n",
       "      <td>233.30</td>\n",
       "      <td>236.75</td>\n",
       "      <td>232.00</td>\n",
       "      <td>236.25</td>\n",
       "      <td>236.10</td>\n",
       "      <td>2349368</td>\n",
       "      <td>5503.90</td>\n",
       "    </tr>\n",
       "    <tr>\n",
       "      <th>4</th>\n",
       "      <td>24-09-2018</td>\n",
       "      <td>233.55</td>\n",
       "      <td>239.20</td>\n",
       "      <td>230.75</td>\n",
       "      <td>234.00</td>\n",
       "      <td>233.30</td>\n",
       "      <td>3423509</td>\n",
       "      <td>7999.55</td>\n",
       "    </tr>\n",
       "  </tbody>\n",
       "</table>\n",
       "</div>"
      ],
      "text/plain": [
       "         Date    Open    High     Low    Last   Close  Total Trade Quantity  \\\n",
       "0  28-09-2018  234.05  235.95  230.20  233.50  233.75               3069914   \n",
       "1  27-09-2018  234.55  236.80  231.10  233.80  233.25               5082859   \n",
       "2  26-09-2018  240.00  240.00  232.50  235.00  234.25               2240909   \n",
       "3  25-09-2018  233.30  236.75  232.00  236.25  236.10               2349368   \n",
       "4  24-09-2018  233.55  239.20  230.75  234.00  233.30               3423509   \n",
       "\n",
       "   Turnover (Lacs)  \n",
       "0          7162.35  \n",
       "1         11859.95  \n",
       "2          5248.60  \n",
       "3          5503.90  \n",
       "4          7999.55  "
      ]
     },
     "execution_count": 33,
     "metadata": {},
     "output_type": "execute_result"
    }
   ],
   "source": [
    "df.head()"
   ]
  },
  {
   "cell_type": "code",
   "execution_count": 34,
   "metadata": {},
   "outputs": [
    {
     "data": {
      "text/html": [
       "<div>\n",
       "<style scoped>\n",
       "    .dataframe tbody tr th:only-of-type {\n",
       "        vertical-align: middle;\n",
       "    }\n",
       "\n",
       "    .dataframe tbody tr th {\n",
       "        vertical-align: top;\n",
       "    }\n",
       "\n",
       "    .dataframe thead th {\n",
       "        text-align: right;\n",
       "    }\n",
       "</style>\n",
       "<table border=\"1\" class=\"dataframe\">\n",
       "  <thead>\n",
       "    <tr style=\"text-align: right;\">\n",
       "      <th></th>\n",
       "      <th>Date</th>\n",
       "      <th>Open</th>\n",
       "      <th>High</th>\n",
       "      <th>Low</th>\n",
       "      <th>Last</th>\n",
       "      <th>Close</th>\n",
       "      <th>Total Trade Quantity</th>\n",
       "      <th>Turnover (Lacs)</th>\n",
       "    </tr>\n",
       "  </thead>\n",
       "  <tbody>\n",
       "    <tr>\n",
       "      <th>2030</th>\n",
       "      <td>27-07-2010</td>\n",
       "      <td>117.6</td>\n",
       "      <td>119.50</td>\n",
       "      <td>112.00</td>\n",
       "      <td>118.80</td>\n",
       "      <td>118.65</td>\n",
       "      <td>586100</td>\n",
       "      <td>694.98</td>\n",
       "    </tr>\n",
       "    <tr>\n",
       "      <th>2031</th>\n",
       "      <td>26-07-2010</td>\n",
       "      <td>120.1</td>\n",
       "      <td>121.00</td>\n",
       "      <td>117.10</td>\n",
       "      <td>117.10</td>\n",
       "      <td>117.60</td>\n",
       "      <td>658440</td>\n",
       "      <td>780.01</td>\n",
       "    </tr>\n",
       "    <tr>\n",
       "      <th>2032</th>\n",
       "      <td>23-07-2010</td>\n",
       "      <td>121.8</td>\n",
       "      <td>121.95</td>\n",
       "      <td>120.25</td>\n",
       "      <td>120.35</td>\n",
       "      <td>120.65</td>\n",
       "      <td>281312</td>\n",
       "      <td>340.31</td>\n",
       "    </tr>\n",
       "    <tr>\n",
       "      <th>2033</th>\n",
       "      <td>22-07-2010</td>\n",
       "      <td>120.3</td>\n",
       "      <td>122.00</td>\n",
       "      <td>120.25</td>\n",
       "      <td>120.75</td>\n",
       "      <td>120.90</td>\n",
       "      <td>293312</td>\n",
       "      <td>355.17</td>\n",
       "    </tr>\n",
       "    <tr>\n",
       "      <th>2034</th>\n",
       "      <td>21-07-2010</td>\n",
       "      <td>122.1</td>\n",
       "      <td>123.00</td>\n",
       "      <td>121.05</td>\n",
       "      <td>121.10</td>\n",
       "      <td>121.55</td>\n",
       "      <td>658666</td>\n",
       "      <td>803.56</td>\n",
       "    </tr>\n",
       "  </tbody>\n",
       "</table>\n",
       "</div>"
      ],
      "text/plain": [
       "            Date   Open    High     Low    Last   Close  Total Trade Quantity  \\\n",
       "2030  27-07-2010  117.6  119.50  112.00  118.80  118.65                586100   \n",
       "2031  26-07-2010  120.1  121.00  117.10  117.10  117.60                658440   \n",
       "2032  23-07-2010  121.8  121.95  120.25  120.35  120.65                281312   \n",
       "2033  22-07-2010  120.3  122.00  120.25  120.75  120.90                293312   \n",
       "2034  21-07-2010  122.1  123.00  121.05  121.10  121.55                658666   \n",
       "\n",
       "      Turnover (Lacs)  \n",
       "2030           694.98  \n",
       "2031           780.01  \n",
       "2032           340.31  \n",
       "2033           355.17  \n",
       "2034           803.56  "
      ]
     },
     "execution_count": 34,
     "metadata": {},
     "output_type": "execute_result"
    }
   ],
   "source": [
    "df.tail()"
   ]
  },
  {
   "cell_type": "code",
   "execution_count": 35,
   "metadata": {},
   "outputs": [
    {
     "data": {
      "text/plain": [
       "(2035, 8)"
      ]
     },
     "execution_count": 35,
     "metadata": {},
     "output_type": "execute_result"
    }
   ],
   "source": [
    "df.shape"
   ]
  },
  {
   "cell_type": "code",
   "execution_count": 36,
   "metadata": {},
   "outputs": [
    {
     "data": {
      "text/plain": [
       "Index(['Date', 'Open', 'High', 'Low', 'Last', 'Close', 'Total Trade Quantity',\n",
       "       'Turnover (Lacs)'],\n",
       "      dtype='object')"
      ]
     },
     "execution_count": 36,
     "metadata": {},
     "output_type": "execute_result"
    }
   ],
   "source": [
    "df.columns"
   ]
  },
  {
   "cell_type": "code",
   "execution_count": 37,
   "metadata": {},
   "outputs": [
    {
     "name": "stdout",
     "output_type": "stream",
     "text": [
      "<class 'pandas.core.frame.DataFrame'>\n",
      "RangeIndex: 2035 entries, 0 to 2034\n",
      "Data columns (total 8 columns):\n",
      " #   Column                Non-Null Count  Dtype  \n",
      "---  ------                --------------  -----  \n",
      " 0   Date                  2035 non-null   object \n",
      " 1   Open                  2035 non-null   float64\n",
      " 2   High                  2035 non-null   float64\n",
      " 3   Low                   2035 non-null   float64\n",
      " 4   Last                  2035 non-null   float64\n",
      " 5   Close                 2035 non-null   float64\n",
      " 6   Total Trade Quantity  2035 non-null   int64  \n",
      " 7   Turnover (Lacs)       2035 non-null   float64\n",
      "dtypes: float64(6), int64(1), object(1)\n",
      "memory usage: 127.3+ KB\n"
     ]
    }
   ],
   "source": [
    "df.info()"
   ]
  },
  {
   "cell_type": "code",
   "execution_count": 38,
   "metadata": {},
   "outputs": [
    {
     "data": {
      "text/html": [
       "<div>\n",
       "<style scoped>\n",
       "    .dataframe tbody tr th:only-of-type {\n",
       "        vertical-align: middle;\n",
       "    }\n",
       "\n",
       "    .dataframe tbody tr th {\n",
       "        vertical-align: top;\n",
       "    }\n",
       "\n",
       "    .dataframe thead th {\n",
       "        text-align: right;\n",
       "    }\n",
       "</style>\n",
       "<table border=\"1\" class=\"dataframe\">\n",
       "  <thead>\n",
       "    <tr style=\"text-align: right;\">\n",
       "      <th></th>\n",
       "      <th>Open</th>\n",
       "      <th>High</th>\n",
       "      <th>Low</th>\n",
       "      <th>Last</th>\n",
       "      <th>Close</th>\n",
       "      <th>Total Trade Quantity</th>\n",
       "      <th>Turnover (Lacs)</th>\n",
       "    </tr>\n",
       "  </thead>\n",
       "  <tbody>\n",
       "    <tr>\n",
       "      <th>count</th>\n",
       "      <td>2035.000000</td>\n",
       "      <td>2035.000000</td>\n",
       "      <td>2035.000000</td>\n",
       "      <td>2035.000000</td>\n",
       "      <td>2035.00000</td>\n",
       "      <td>2.035000e+03</td>\n",
       "      <td>2035.000000</td>\n",
       "    </tr>\n",
       "    <tr>\n",
       "      <th>mean</th>\n",
       "      <td>149.713735</td>\n",
       "      <td>151.992826</td>\n",
       "      <td>147.293931</td>\n",
       "      <td>149.474251</td>\n",
       "      <td>149.45027</td>\n",
       "      <td>2.335681e+06</td>\n",
       "      <td>3899.980565</td>\n",
       "    </tr>\n",
       "    <tr>\n",
       "      <th>std</th>\n",
       "      <td>48.664509</td>\n",
       "      <td>49.413109</td>\n",
       "      <td>47.931958</td>\n",
       "      <td>48.732570</td>\n",
       "      <td>48.71204</td>\n",
       "      <td>2.091778e+06</td>\n",
       "      <td>4570.767877</td>\n",
       "    </tr>\n",
       "    <tr>\n",
       "      <th>min</th>\n",
       "      <td>81.100000</td>\n",
       "      <td>82.800000</td>\n",
       "      <td>80.000000</td>\n",
       "      <td>81.000000</td>\n",
       "      <td>80.95000</td>\n",
       "      <td>3.961000e+04</td>\n",
       "      <td>37.040000</td>\n",
       "    </tr>\n",
       "    <tr>\n",
       "      <th>25%</th>\n",
       "      <td>120.025000</td>\n",
       "      <td>122.100000</td>\n",
       "      <td>118.300000</td>\n",
       "      <td>120.075000</td>\n",
       "      <td>120.05000</td>\n",
       "      <td>1.146444e+06</td>\n",
       "      <td>1427.460000</td>\n",
       "    </tr>\n",
       "    <tr>\n",
       "      <th>50%</th>\n",
       "      <td>141.500000</td>\n",
       "      <td>143.400000</td>\n",
       "      <td>139.600000</td>\n",
       "      <td>141.100000</td>\n",
       "      <td>141.25000</td>\n",
       "      <td>1.783456e+06</td>\n",
       "      <td>2512.030000</td>\n",
       "    </tr>\n",
       "    <tr>\n",
       "      <th>75%</th>\n",
       "      <td>157.175000</td>\n",
       "      <td>159.400000</td>\n",
       "      <td>155.150000</td>\n",
       "      <td>156.925000</td>\n",
       "      <td>156.90000</td>\n",
       "      <td>2.813594e+06</td>\n",
       "      <td>4539.015000</td>\n",
       "    </tr>\n",
       "    <tr>\n",
       "      <th>max</th>\n",
       "      <td>327.700000</td>\n",
       "      <td>328.750000</td>\n",
       "      <td>321.650000</td>\n",
       "      <td>325.950000</td>\n",
       "      <td>325.75000</td>\n",
       "      <td>2.919102e+07</td>\n",
       "      <td>55755.080000</td>\n",
       "    </tr>\n",
       "  </tbody>\n",
       "</table>\n",
       "</div>"
      ],
      "text/plain": [
       "              Open         High          Low         Last       Close  \\\n",
       "count  2035.000000  2035.000000  2035.000000  2035.000000  2035.00000   \n",
       "mean    149.713735   151.992826   147.293931   149.474251   149.45027   \n",
       "std      48.664509    49.413109    47.931958    48.732570    48.71204   \n",
       "min      81.100000    82.800000    80.000000    81.000000    80.95000   \n",
       "25%     120.025000   122.100000   118.300000   120.075000   120.05000   \n",
       "50%     141.500000   143.400000   139.600000   141.100000   141.25000   \n",
       "75%     157.175000   159.400000   155.150000   156.925000   156.90000   \n",
       "max     327.700000   328.750000   321.650000   325.950000   325.75000   \n",
       "\n",
       "       Total Trade Quantity  Turnover (Lacs)  \n",
       "count          2.035000e+03      2035.000000  \n",
       "mean           2.335681e+06      3899.980565  \n",
       "std            2.091778e+06      4570.767877  \n",
       "min            3.961000e+04        37.040000  \n",
       "25%            1.146444e+06      1427.460000  \n",
       "50%            1.783456e+06      2512.030000  \n",
       "75%            2.813594e+06      4539.015000  \n",
       "max            2.919102e+07     55755.080000  "
      ]
     },
     "execution_count": 38,
     "metadata": {},
     "output_type": "execute_result"
    }
   ],
   "source": [
    "df.describe()"
   ]
  },
  {
   "cell_type": "code",
   "execution_count": 39,
   "metadata": {},
   "outputs": [
    {
     "data": {
      "text/plain": [
       "Date                    0\n",
       "Open                    0\n",
       "High                    0\n",
       "Low                     0\n",
       "Last                    0\n",
       "Close                   0\n",
       "Total Trade Quantity    0\n",
       "Turnover (Lacs)         0\n",
       "dtype: int64"
      ]
     },
     "execution_count": 39,
     "metadata": {},
     "output_type": "execute_result"
    }
   ],
   "source": [
    "df.isnull().sum()"
   ]
  },
  {
   "cell_type": "code",
   "execution_count": 40,
   "metadata": {},
   "outputs": [
    {
     "data": {
      "text/plain": [
       "0       False\n",
       "1       False\n",
       "2       False\n",
       "3       False\n",
       "4       False\n",
       "        ...  \n",
       "2030    False\n",
       "2031    False\n",
       "2032    False\n",
       "2033    False\n",
       "2034    False\n",
       "Length: 2035, dtype: bool"
      ]
     },
     "execution_count": 40,
     "metadata": {},
     "output_type": "execute_result"
    }
   ],
   "source": [
    "df.duplicated()"
   ]
  },
  {
   "cell_type": "code",
   "execution_count": 41,
   "metadata": {},
   "outputs": [
    {
     "data": {
      "text/plain": [
       "<AxesSubplot:>"
      ]
     },
     "execution_count": 41,
     "metadata": {},
     "output_type": "execute_result"
    },
    {
     "data": {
      "image/png": "[encoded data removed]",
      "text/plain": [
       "<Figure size 600x600 with 2 Axes>"
      ]
     },
     "metadata": {},
     "output_type": "display_data"
    }
   ],
   "source": [
    "plt.figure(figsize=(6,6))\n",
    "sns.heatmap(df.corr(), annot=True)"
   ]
  },
  {
   "cell_type": "code",
   "execution_count": 42,
   "metadata": {},
   "outputs": [
    {
     "data": {
      "text/plain": [
       "[<matplotlib.lines.Line2D at 0x1eb10d3e8e0>]"
      ]
     },
     "execution_count": 42,
     "metadata": {},
     "output_type": "execute_result"
    },
    {
     "data": {
      "image/png": "[encoded data removed]",
      "text/plain": [
       "<Figure size 640x480 with 1 Axes>"
      ]
     },
     "metadata": {},
     "output_type": "display_data"
    }
   ],
   "source": [
    "df_high=df.reset_index()['High']\n",
    "plt.plot(df_high)"
   ]
  },
  {
   "cell_type": "code",
   "execution_count": 43,
   "metadata": {},
   "outputs": [],
   "source": [
    "from sklearn.preprocessing import MinMaxScaler\n",
    "scaler = MinMaxScaler(feature_range = (0,1))\n",
    "df_high = scaler.fit_transform(np.array(df_high).reshape(-1,1))"
   ]
  },
  {
   "cell_type": "code",
   "execution_count": 44,
   "metadata": {},
   "outputs": [
    {
     "data": {
      "text/plain": [
       "(2035, 1)"
      ]
     },
     "execution_count": 44,
     "metadata": {},
     "output_type": "execute_result"
    }
   ],
   "source": [
    "df_high.shape"
   ]
  },
  {
   "cell_type": "code",
   "execution_count": 45,
   "metadata": {},
   "outputs": [
    {
     "data": {
      "text/plain": [
       "array([[0.62268754],\n",
       "       [0.62614353],\n",
       "       [0.6391543 ],\n",
       "       ...,\n",
       "       [0.15917869],\n",
       "       [0.15938199],\n",
       "       [0.16344786]])"
      ]
     },
     "execution_count": 45,
     "metadata": {},
     "output_type": "execute_result"
    }
   ],
   "source": [
    "df_high"
   ]
  },
  {
   "cell_type": "code",
   "execution_count": 46,
   "metadata": {},
   "outputs": [],
   "source": [
    "#Split the data into train and test split\n",
    "training_size = int(len(df_high) * 0.75)\n",
    "test_size = len(df_high) - training_size\n",
    "train_data,test_data = df_high[0:training_size,:], df_high[training_size:len(df_high),:1]"
   ]
  },
  {
   "cell_type": "code",
   "execution_count": 47,
   "metadata": {},
   "outputs": [
    {
     "data": {
      "text/plain": [
       "(1526, 509)"
      ]
     },
     "execution_count": 47,
     "metadata": {},
     "output_type": "execute_result"
    }
   ],
   "source": [
    "training_size, test_size"
   ]
  },
  {
   "cell_type": "code",
   "execution_count": 48,
   "metadata": {},
   "outputs": [],
   "source": [
    "# convert an array of values into a dataset matrix\n",
    "def create_dataset(dataset, time_step=1):\n",
    "    dataX, dataY = [], []\n",
    "    for i in range(len(dataset)-time_step-1):\n",
    "        a = dataset[i:(i+time_step), 0]  \n",
    "        dataX.append(a)\n",
    "        dataY.append(dataset[i + time_step, 0])\n",
    "    return np.array(dataX), np.array(dataY)"
   ]
  },
  {
   "cell_type": "code",
   "execution_count": 49,
   "metadata": {},
   "outputs": [],
   "source": [
    "time_step = 100\n",
    "x_train, y_train = create_dataset(train_data, time_step)\n",
    "x_test, y_test = create_dataset(test_data, time_step)"
   ]
  },
  {
   "cell_type": "code",
   "execution_count": 50,
   "metadata": {},
   "outputs": [],
   "source": [
    "#Reshape the input to be [samples, time steps, features] which is the requirement of LSTM\n",
    "x_train = x_train.reshape(x_train.shape[0], x_train.shape[1], 1)\n",
    "x_test = x_test.reshape(x_test.shape[0], x_test.shape[1], 1)"
   ]
  },
  {
   "cell_type": "code",
   "execution_count": 51,
   "metadata": {},
   "outputs": [
    {
     "name": "stdout",
     "output_type": "stream",
     "text": [
      "(1425, 100, 1)\n",
      "[0.86480992 0.84854645 0.85362879 ... 0.1955682  0.18906282 0.18377719]\n"
     ]
    }
   ],
   "source": [
    "print(x_train.shape),\n",
    "print(y_train)"
   ]
  },
  {
   "cell_type": "code",
   "execution_count": 52,
   "metadata": {},
   "outputs": [
    {
     "name": "stdout",
     "output_type": "stream",
     "text": [
      "(408, 100, 1)\n",
      "(408,)\n"
     ]
    }
   ],
   "source": [
    "print(x_test.shape),\n",
    "print(y_test.shape)"
   ]
  },
  {
   "cell_type": "code",
   "execution_count": 53,
   "metadata": {},
   "outputs": [],
   "source": [
    "import tensorflow as tf\n",
    "from tensorflow.python.keras.models import Sequential\n",
    "from tensorflow.python.keras.layers import Dense\n",
    "from tensorflow.python.keras.layers import LSTM"
   ]
  },
  {
   "cell_type": "code",
   "execution_count": 54,
   "metadata": {},
   "outputs": [],
   "source": [
    "### Create the Stacked LSTM model\n",
    "model = Sequential()\n",
    "model.add(LSTM(50, return_sequences = True, input_shape = (100,1)))\n",
    "model.add(LSTM(50, return_sequences = True))\n",
    "model.add(LSTM(50))\n",
    "model.add(Dense(1))\n",
    "model.compile(loss = 'mean_squared_error', optimizer = 'adam')"
   ]
  },
  {
   "cell_type": "code",
   "execution_count": 55,
   "metadata": {},
   "outputs": [
    {
     "name": "stdout",
     "output_type": "stream",
     "text": [
      "Model: \"sequential_1\"\n",
      "_________________________________________________________________\n",
      "Layer (type)                 Output Shape              Param #   \n",
      "=================================================================\n",
      "lstm_3 (LSTM)                (None, 100, 50)           10400     \n",
      "_________________________________________________________________\n",
      "lstm_4 (LSTM)                (None, 100, 50)           20200     \n",
      "_________________________________________________________________\n",
      "lstm_5 (LSTM)                (None, 50)                20200     \n",
      "_________________________________________________________________\n",
      "dense_1 (Dense)              (None, 1)                 51        \n",
      "=================================================================\n",
      "Total params: 50,851\n",
      "Trainable params: 50,851\n",
      "Non-trainable params: 0\n",
      "_________________________________________________________________\n"
     ]
    }
   ],
   "source": [
    "model.summary()"
   ]
  },
  {
   "cell_type": "code",
   "execution_count": 56,
   "metadata": {},
   "outputs": [
    {
     "name": "stdout",
     "output_type": "stream",
     "text": [
      "Epoch 1/100\n",
      "23/23 [==============================] - 17s 254ms/step - loss: 0.0316 - val_loss: 0.0060\n",
      "Epoch 2/100\n",
      "23/23 [==============================] - 5s 212ms/step - loss: 0.0031 - val_loss: 0.0017\n",
      "Epoch 3/100\n",
      "23/23 [==============================] - 5s 216ms/step - loss: 0.0016 - val_loss: 0.0011\n",
      "Epoch 4/100\n",
      "23/23 [==============================] - 5s 208ms/step - loss: 0.0014 - val_loss: 0.0014\n",
      "Epoch 5/100\n",
      "23/23 [==============================] - 5s 213ms/step - loss: 0.0014 - val_loss: 0.0014\n",
      "Epoch 6/100\n",
      "23/23 [==============================] - 5s 205ms/step - loss: 0.0013 - val_loss: 0.0015\n",
      "Epoch 7/100\n",
      "23/23 [==============================] - 5s 203ms/step - loss: 0.0013 - val_loss: 0.0013\n",
      "Epoch 8/100\n",
      "23/23 [==============================] - 5s 205ms/step - loss: 0.0012 - val_loss: 0.0010\n",
      "Epoch 9/100\n",
      "23/23 [==============================] - 5s 203ms/step - loss: 0.0011 - val_loss: 0.0013\n",
      "Epoch 10/100\n",
      "23/23 [==============================] - 5s 203ms/step - loss: 0.0010 - val_loss: 0.0011\n",
      "Epoch 11/100\n",
      "23/23 [==============================] - 5s 201ms/step - loss: 0.0011 - val_loss: 0.0014\n",
      "Epoch 12/100\n",
      "23/23 [==============================] - 5s 204ms/step - loss: 0.0012 - val_loss: 0.0011\n",
      "Epoch 13/100\n",
      "23/23 [==============================] - 5s 209ms/step - loss: 0.0015 - val_loss: 8.4987e-04\n",
      "Epoch 14/100\n",
      "23/23 [==============================] - 5s 201ms/step - loss: 0.0011 - val_loss: 8.8550e-04\n",
      "Epoch 15/100\n",
      "23/23 [==============================] - 5s 207ms/step - loss: 8.6337e-04 - val_loss: 0.0010\n",
      "Epoch 16/100\n",
      "23/23 [==============================] - 5s 204ms/step - loss: 8.3083e-04 - val_loss: 0.0010\n",
      "Epoch 17/100\n",
      "23/23 [==============================] - 5s 201ms/step - loss: 8.2711e-04 - val_loss: 9.0275e-04\n",
      "Epoch 18/100\n",
      "23/23 [==============================] - 5s 202ms/step - loss: 8.2394e-04 - val_loss: 9.9621e-04\n",
      "Epoch 19/100\n",
      "23/23 [==============================] - 5s 207ms/step - loss: 8.4175e-04 - val_loss: 8.0745e-04\n",
      "Epoch 20/100\n",
      "23/23 [==============================] - 5s 206ms/step - loss: 7.3199e-04 - val_loss: 7.9459e-04\n",
      "Epoch 21/100\n",
      "23/23 [==============================] - 5s 203ms/step - loss: 7.3452e-04 - val_loss: 7.5774e-04\n",
      "Epoch 22/100\n",
      "23/23 [==============================] - 5s 207ms/step - loss: 7.0886e-04 - val_loss: 7.2097e-04\n",
      "Epoch 23/100\n",
      "23/23 [==============================] - 5s 204ms/step - loss: 7.0247e-04 - val_loss: 7.7735e-04\n",
      "Epoch 24/100\n",
      "23/23 [==============================] - 5s 200ms/step - loss: 6.9067e-04 - val_loss: 5.9911e-04\n",
      "Epoch 25/100\n",
      "23/23 [==============================] - 5s 205ms/step - loss: 6.8071e-04 - val_loss: 7.4357e-04\n",
      "Epoch 26/100\n",
      "23/23 [==============================] - 5s 209ms/step - loss: 6.5535e-04 - val_loss: 6.7236e-04\n",
      "Epoch 27/100\n",
      "23/23 [==============================] - 5s 206ms/step - loss: 6.4659e-04 - val_loss: 8.1945e-04\n",
      "Epoch 28/100\n",
      "23/23 [==============================] - 5s 200ms/step - loss: 6.6112e-04 - val_loss: 8.2747e-04\n",
      "Epoch 29/100\n",
      "23/23 [==============================] - 5s 206ms/step - loss: 6.0444e-04 - val_loss: 7.1838e-04\n",
      "Epoch 30/100\n",
      "23/23 [==============================] - 5s 206ms/step - loss: 6.0739e-04 - val_loss: 6.5437e-04\n",
      "Epoch 31/100\n",
      "23/23 [==============================] - 5s 204ms/step - loss: 5.9620e-04 - val_loss: 6.2168e-04\n",
      "Epoch 32/100\n",
      "23/23 [==============================] - 5s 217ms/step - loss: 7.0219e-04 - val_loss: 6.5069e-04\n",
      "Epoch 33/100\n",
      "23/23 [==============================] - 5s 209ms/step - loss: 7.3000e-04 - val_loss: 5.2561e-04\n",
      "Epoch 34/100\n",
      "23/23 [==============================] - 5s 211ms/step - loss: 6.0478e-04 - val_loss: 6.2601e-04\n",
      "Epoch 35/100\n",
      "23/23 [==============================] - 5s 206ms/step - loss: 5.6517e-04 - val_loss: 7.9160e-04\n",
      "Epoch 36/100\n",
      "23/23 [==============================] - 5s 206ms/step - loss: 5.4252e-04 - val_loss: 5.5635e-04\n",
      "Epoch 37/100\n",
      "23/23 [==============================] - 5s 203ms/step - loss: 5.5609e-04 - val_loss: 7.5496e-04\n",
      "Epoch 38/100\n",
      "23/23 [==============================] - 5s 203ms/step - loss: 5.5581e-04 - val_loss: 4.8681e-04\n",
      "Epoch 39/100\n",
      "23/23 [==============================] - 5s 205ms/step - loss: 5.6793e-04 - val_loss: 4.3039e-04\n",
      "Epoch 40/100\n",
      "23/23 [==============================] - 5s 203ms/step - loss: 7.0768e-04 - val_loss: 4.4282e-04\n",
      "Epoch 41/100\n",
      "23/23 [==============================] - 5s 214ms/step - loss: 6.7286e-04 - val_loss: 5.1674e-04\n",
      "Epoch 42/100\n",
      "23/23 [==============================] - 5s 216ms/step - loss: 6.7239e-04 - val_loss: 6.7278e-04\n",
      "Epoch 43/100\n",
      "23/23 [==============================] - 5s 205ms/step - loss: 5.8586e-04 - val_loss: 6.1511e-04\n",
      "Epoch 44/100\n",
      "23/23 [==============================] - 5s 203ms/step - loss: 4.9911e-04 - val_loss: 5.0960e-04\n",
      "Epoch 45/100\n",
      "23/23 [==============================] - 5s 207ms/step - loss: 5.9543e-04 - val_loss: 3.9283e-04\n",
      "Epoch 46/100\n",
      "23/23 [==============================] - 5s 206ms/step - loss: 4.8002e-04 - val_loss: 4.8086e-04\n",
      "Epoch 47/100\n",
      "23/23 [==============================] - 5s 203ms/step - loss: 4.6661e-04 - val_loss: 5.6796e-04\n",
      "Epoch 48/100\n",
      "23/23 [==============================] - 5s 204ms/step - loss: 4.5196e-04 - val_loss: 4.7248e-04\n",
      "Epoch 49/100\n",
      "23/23 [==============================] - 5s 206ms/step - loss: 4.3988e-04 - val_loss: 5.9869e-04\n",
      "Epoch 50/100\n",
      "23/23 [==============================] - 5s 206ms/step - loss: 5.2700e-04 - val_loss: 4.3062e-04\n",
      "Epoch 51/100\n",
      "23/23 [==============================] - 5s 208ms/step - loss: 4.5454e-04 - val_loss: 4.9299e-04\n",
      "Epoch 52/100\n",
      "23/23 [==============================] - 5s 203ms/step - loss: 3.9601e-04 - val_loss: 4.6850e-04\n",
      "Epoch 53/100\n",
      "23/23 [==============================] - 5s 207ms/step - loss: 3.9079e-04 - val_loss: 4.7391e-04\n",
      "Epoch 54/100\n",
      "23/23 [==============================] - 5s 208ms/step - loss: 3.8213e-04 - val_loss: 3.8790e-04\n",
      "Epoch 55/100\n",
      "23/23 [==============================] - 5s 201ms/step - loss: 4.5068e-04 - val_loss: 4.8260e-04\n",
      "Epoch 56/100\n",
      "23/23 [==============================] - 5s 208ms/step - loss: 3.9274e-04 - val_loss: 4.1121e-04\n",
      "Epoch 57/100\n",
      "23/23 [==============================] - 5s 211ms/step - loss: 3.8088e-04 - val_loss: 3.2501e-04\n",
      "Epoch 58/100\n",
      "23/23 [==============================] - 5s 200ms/step - loss: 3.9051e-04 - val_loss: 2.7031e-04\n",
      "Epoch 59/100\n",
      "23/23 [==============================] - 5s 209ms/step - loss: 4.2337e-04 - val_loss: 3.9440e-04\n",
      "Epoch 60/100\n",
      "23/23 [==============================] - 5s 208ms/step - loss: 3.1559e-04 - val_loss: 3.8258e-04\n",
      "Epoch 61/100\n",
      "23/23 [==============================] - 5s 204ms/step - loss: 3.1405e-04 - val_loss: 2.9705e-04\n",
      "Epoch 62/100\n",
      "23/23 [==============================] - 5s 201ms/step - loss: 3.2153e-04 - val_loss: 2.8830e-04\n",
      "Epoch 63/100\n",
      "23/23 [==============================] - 5s 210ms/step - loss: 2.9232e-04 - val_loss: 3.2013e-04\n",
      "Epoch 64/100\n",
      "23/23 [==============================] - 5s 206ms/step - loss: 3.0800e-04 - val_loss: 2.6206e-04\n",
      "Epoch 65/100\n",
      "23/23 [==============================] - 5s 206ms/step - loss: 2.8480e-04 - val_loss: 3.5712e-04\n",
      "Epoch 66/100\n",
      "23/23 [==============================] - 5s 207ms/step - loss: 3.0041e-04 - val_loss: 2.5256e-04\n",
      "Epoch 67/100\n",
      "23/23 [==============================] - 5s 208ms/step - loss: 3.1816e-04 - val_loss: 2.4726e-04\n",
      "Epoch 68/100\n",
      "23/23 [==============================] - 5s 210ms/step - loss: 3.0513e-04 - val_loss: 3.0382e-04\n",
      "Epoch 69/100\n",
      "23/23 [==============================] - 5s 203ms/step - loss: 2.5282e-04 - val_loss: 2.9055e-04\n",
      "Epoch 70/100\n",
      "23/23 [==============================] - 5s 207ms/step - loss: 2.9501e-04 - val_loss: 2.1020e-04\n",
      "Epoch 71/100\n",
      "23/23 [==============================] - 5s 218ms/step - loss: 2.8242e-04 - val_loss: 2.5634e-04\n",
      "Epoch 72/100\n",
      "23/23 [==============================] - 5s 211ms/step - loss: 2.4449e-04 - val_loss: 2.3907e-04\n",
      "Epoch 73/100\n",
      "23/23 [==============================] - 5s 212ms/step - loss: 2.2789e-04 - val_loss: 2.0690e-04\n",
      "Epoch 74/100\n",
      "23/23 [==============================] - 5s 218ms/step - loss: 2.2880e-04 - val_loss: 1.9579e-04\n",
      "Epoch 75/100\n",
      "23/23 [==============================] - 5s 207ms/step - loss: 2.2727e-04 - val_loss: 2.1024e-04\n",
      "Epoch 76/100\n",
      "23/23 [==============================] - 5s 224ms/step - loss: 2.1205e-04 - val_loss: 1.9217e-04\n",
      "Epoch 77/100\n",
      "23/23 [==============================] - 5s 222ms/step - loss: 2.1603e-04 - val_loss: 2.0891e-04\n",
      "Epoch 78/100\n",
      "23/23 [==============================] - 5s 222ms/step - loss: 2.2579e-04 - val_loss: 2.6656e-04\n",
      "Epoch 79/100\n",
      "23/23 [==============================] - 5s 217ms/step - loss: 2.1151e-04 - val_loss: 1.8551e-04\n",
      "Epoch 80/100\n",
      "23/23 [==============================] - 5s 218ms/step - loss: 2.1117e-04 - val_loss: 2.2127e-04\n",
      "Epoch 81/100\n",
      "23/23 [==============================] - 5s 217ms/step - loss: 2.2143e-04 - val_loss: 1.8714e-04\n",
      "Epoch 82/100\n",
      "23/23 [==============================] - 5s 220ms/step - loss: 1.9947e-04 - val_loss: 1.7066e-04\n",
      "Epoch 83/100\n",
      "23/23 [==============================] - 5s 220ms/step - loss: 1.9371e-04 - val_loss: 1.8233e-04\n",
      "Epoch 84/100\n",
      "23/23 [==============================] - 5s 218ms/step - loss: 2.0134e-04 - val_loss: 1.6447e-04\n",
      "Epoch 85/100\n",
      "23/23 [==============================] - 5s 218ms/step - loss: 1.8739e-04 - val_loss: 1.8464e-04\n",
      "Epoch 86/100\n",
      "23/23 [==============================] - 5s 217ms/step - loss: 1.9770e-04 - val_loss: 1.6915e-04\n",
      "Epoch 87/100\n",
      "23/23 [==============================] - 5s 220ms/step - loss: 2.1816e-04 - val_loss: 1.6753e-04\n",
      "Epoch 88/100\n",
      "23/23 [==============================] - 5s 219ms/step - loss: 2.2580e-04 - val_loss: 1.8789e-04\n",
      "Epoch 89/100\n",
      "23/23 [==============================] - 5s 219ms/step - loss: 3.3653e-04 - val_loss: 1.4833e-04\n",
      "Epoch 90/100\n",
      "23/23 [==============================] - 5s 221ms/step - loss: 2.1181e-04 - val_loss: 1.4096e-04\n",
      "Epoch 91/100\n",
      "23/23 [==============================] - 5s 217ms/step - loss: 1.9049e-04 - val_loss: 1.6405e-04\n",
      "Epoch 92/100\n",
      "23/23 [==============================] - 5s 221ms/step - loss: 1.9455e-04 - val_loss: 1.7114e-04\n",
      "Epoch 93/100\n",
      "23/23 [==============================] - 5s 216ms/step - loss: 2.2426e-04 - val_loss: 2.2410e-04\n",
      "Epoch 94/100\n",
      "23/23 [==============================] - 5s 224ms/step - loss: 1.7503e-04 - val_loss: 1.6794e-04\n",
      "Epoch 95/100\n",
      "23/23 [==============================] - 5s 224ms/step - loss: 1.6560e-04 - val_loss: 1.4525e-04\n",
      "Epoch 96/100\n",
      "23/23 [==============================] - 5s 220ms/step - loss: 1.6256e-04 - val_loss: 2.0879e-04\n",
      "Epoch 97/100\n",
      "23/23 [==============================] - 5s 216ms/step - loss: 1.9340e-04 - val_loss: 1.8442e-04\n",
      "Epoch 98/100\n",
      "23/23 [==============================] - 5s 222ms/step - loss: 1.8581e-04 - val_loss: 1.3963e-04\n",
      "Epoch 99/100\n",
      "23/23 [==============================] - 5s 218ms/step - loss: 1.5972e-04 - val_loss: 1.2620e-04\n",
      "Epoch 100/100\n",
      "23/23 [==============================] - 5s 220ms/step - loss: 1.6489e-04 - val_loss: 1.9044e-04\n"
     ]
    },
    {
     "data": {
      "text/plain": [
       "<tensorflow.python.keras.callbacks.History at 0x1eb10c13430>"
      ]
     },
     "execution_count": 56,
     "metadata": {},
     "output_type": "execute_result"
    }
   ],
   "source": [
    "model.fit(x_train, y_train, validation_data = (x_test, y_test), epochs = 100, batch_size = 64, verbose = 1)"
   ]
  },
  {
   "cell_type": "code",
   "execution_count": 57,
   "metadata": {},
   "outputs": [],
   "source": [
    "#predictions\n",
    "#Lets predict and check performance metrics\n",
    "train_predict = model.predict(x_train)\n",
    "test_predict = model.predict(x_test)"
   ]
  },
  {
   "cell_type": "code",
   "execution_count": 58,
   "metadata": {},
   "outputs": [],
   "source": [
    "#Transform back to original form\n",
    "train_predict = scaler.inverse_transform(train_predict)\n",
    "test_predict = scaler.inverse_transform(test_predict)"
   ]
  },
  {
   "cell_type": "code",
   "execution_count": 59,
   "metadata": {},
   "outputs": [
    {
     "data": {
      "text/plain": [
       "169.11805495026528"
      ]
     },
     "execution_count": 59,
     "metadata": {},
     "output_type": "execute_result"
    }
   ],
   "source": [
    "#Calculate RMSE performance metrics\n",
    "import math\n",
    "from sklearn.metrics import mean_squared_error\n",
    "math.sqrt(mean_squared_error(y_train, train_predict))"
   ]
  },
  {
   "cell_type": "code",
   "execution_count": 60,
   "metadata": {},
   "outputs": [
    {
     "data": {
      "text/plain": [
       "108.52682024549209"
      ]
     },
     "execution_count": 60,
     "metadata": {},
     "output_type": "execute_result"
    }
   ],
   "source": [
    "#Test Data RMSE\n",
    "math.sqrt(mean_squared_error(y_test, test_predict))"
   ]
  },
  {
   "cell_type": "code",
   "execution_count": 61,
   "metadata": {},
   "outputs": [],
   "source": [
    "#Plotting\n",
    "#Shift train prediction for plotting\n",
    "look_back = 100\n",
    "trainPredictPlot = np.empty_like(df_high)\n",
    "trainPredictPlot[:,:] = np.nan\n",
    "trainPredictPlot[look_back:len(train_predict) + look_back, :] = train_predict\n",
    "\n",
    "#Shift test prediction for plotting\n",
    "testPredictPlot = np.empty_like(df_high)\n",
    "testPredictPlot[:,:] = np.nan\n",
    "testPredictPlot[len(train_predict) + (look_back * 2)+1:len(df_high) - 1, :] = test_predict"
   ]
  },
  {
   "cell_type": "code",
   "execution_count": 62,
   "metadata": {},
   "outputs": [
    {
     "data": {
      "image/png": "[encoded data removed]",
      "text/plain": [
       "<Figure size 640x480 with 1 Axes>"
      ]
     },
     "metadata": {},
     "output_type": "display_data"
    },
    {
     "name": "stdout",
     "output_type": "stream",
     "text": [
      "Green indicates the Predicted Data\n",
      "Blue indicates the Complete Data\n",
      "Orange indicates the Train Data\n"
     ]
    }
   ],
   "source": [
    "#Plot baseline and predictions\n",
    "plt.plot(scaler.inverse_transform(df_high))\n",
    "plt.plot(trainPredictPlot)\n",
    "plt.plot(testPredictPlot)\n",
    "plt.show()\n",
    "\n",
    "print(\"Green indicates the Predicted Data\")\n",
    "print(\"Blue indicates the Complete Data\")\n",
    "print(\"Orange indicates the Train Data\")"
   ]
  },
  {
   "cell_type": "code",
   "execution_count": 63,
   "metadata": {},
   "outputs": [
    {
     "data": {
      "text/plain": [
       "(509, (408, 100, 1))"
      ]
     },
     "execution_count": 63,
     "metadata": {},
     "output_type": "execute_result"
    }
   ],
   "source": [
    "#Predict the next 28 days Stock Price\n",
    "len(test_data), x_test.shape"
   ]
  },
  {
   "cell_type": "code",
   "execution_count": 64,
   "metadata": {},
   "outputs": [
    {
     "data": {
      "text/plain": [
       "(1, 100)"
      ]
     },
     "execution_count": 64,
     "metadata": {},
     "output_type": "execute_result"
    }
   ],
   "source": [
    "x_input = test_data[409:].reshape(1,-1)\n",
    "x_input.shape"
   ]
  },
  {
   "cell_type": "code",
   "execution_count": 65,
   "metadata": {},
   "outputs": [
    {
     "name": "stdout",
     "output_type": "stream",
     "text": [
      "[0.16982009]\n",
      "101\n",
      "1 day input [0.13254727 0.13397032 0.13356373 0.13498679 0.14108559 0.13498679\n",
      " 0.12644847 0.12685505 0.12482212 0.14515145 0.1467778  0.15003049\n",
      " 0.15368977 0.17198618 0.16548079 0.17625534 0.17564546 0.19129904\n",
      " 0.20817239 0.20309006 0.18479366 0.17930474 0.1896727  0.17483228\n",
      " 0.17849156 0.17645863 0.18540354 0.18377719 0.19190892 0.18987599\n",
      " 0.19028258 0.19394186 0.20004066 0.19638138 0.19495832 0.20349665\n",
      " 0.19597479 0.21162838 0.22036999 0.20979874 0.21528766 0.21589754\n",
      " 0.21610083 0.22748526 0.19150234 0.1833706  0.17340923 0.16751372\n",
      " 0.1622281  0.17056312 0.17462899 0.17930474 0.18174426 0.16853019\n",
      " 0.16548079 0.1742224  0.1713763  0.17300264 0.17157959 0.17767839\n",
      " 0.18459036 0.18702988 0.18987599 0.19109575 0.18581012 0.17015654\n",
      " 0.16751372 0.16974995 0.16609067 0.15531612 0.15003049 0.15064037\n",
      " 0.14860744 0.14596463 0.15043708 0.14413499 0.12441553 0.12827811\n",
      " 0.11547062 0.12034966 0.13478349 0.13498679 0.12868469 0.13295385\n",
      " 0.12807481 0.12624517 0.13051433 0.13905265 0.14718439 0.15104696\n",
      " 0.14515145 0.14311852 0.15816223 0.15328319 0.14921732 0.15531612\n",
      " 0.15917869 0.15938199 0.16344786 0.16982009]\n",
      "1 day output [[0.17490466]]\n",
      "2 day input [0.13397032 0.13356373 0.13498679 0.14108559 0.13498679 0.12644847\n",
      " 0.12685505 0.12482212 0.14515145 0.1467778  0.15003049 0.15368977\n",
      " 0.17198618 0.16548079 0.17625534 0.17564546 0.19129904 0.20817239\n",
      " 0.20309006 0.18479366 0.17930474 0.1896727  0.17483228 0.17849156\n",
      " 0.17645863 0.18540354 0.18377719 0.19190892 0.18987599 0.19028258\n",
      " 0.19394186 0.20004066 0.19638138 0.19495832 0.20349665 0.19597479\n",
      " 0.21162838 0.22036999 0.20979874 0.21528766 0.21589754 0.21610083\n",
      " 0.22748526 0.19150234 0.1833706  0.17340923 0.16751372 0.1622281\n",
      " 0.17056312 0.17462899 0.17930474 0.18174426 0.16853019 0.16548079\n",
      " 0.1742224  0.1713763  0.17300264 0.17157959 0.17767839 0.18459036\n",
      " 0.18702988 0.18987599 0.19109575 0.18581012 0.17015654 0.16751372\n",
      " 0.16974995 0.16609067 0.15531612 0.15003049 0.15064037 0.14860744\n",
      " 0.14596463 0.15043708 0.14413499 0.12441553 0.12827811 0.11547062\n",
      " 0.12034966 0.13478349 0.13498679 0.12868469 0.13295385 0.12807481\n",
      " 0.12624517 0.13051433 0.13905265 0.14718439 0.15104696 0.14515145\n",
      " 0.14311852 0.15816223 0.15328319 0.14921732 0.15531612 0.15917869\n",
      " 0.15938199 0.16344786 0.16982009 0.17490466]\n",
      "2 day output [[0.18062206]]\n",
      "3 day input [0.13356373 0.13498679 0.14108559 0.13498679 0.12644847 0.12685505\n",
      " 0.12482212 0.14515145 0.1467778  0.15003049 0.15368977 0.17198618\n",
      " 0.16548079 0.17625534 0.17564546 0.19129904 0.20817239 0.20309006\n",
      " 0.18479366 0.17930474 0.1896727  0.17483228 0.17849156 0.17645863\n",
      " 0.18540354 0.18377719 0.19190892 0.18987599 0.19028258 0.19394186\n",
      " 0.20004066 0.19638138 0.19495832 0.20349665 0.19597479 0.21162838\n",
      " 0.22036999 0.20979874 0.21528766 0.21589754 0.21610083 0.22748526\n",
      " 0.19150234 0.1833706  0.17340923 0.16751372 0.1622281  0.17056312\n",
      " 0.17462899 0.17930474 0.18174426 0.16853019 0.16548079 0.1742224\n",
      " 0.1713763  0.17300264 0.17157959 0.17767839 0.18459036 0.18702988\n",
      " 0.18987599 0.19109575 0.18581012 0.17015654 0.16751372 0.16974995\n",
      " 0.16609067 0.15531612 0.15003049 0.15064037 0.14860744 0.14596463\n",
      " 0.15043708 0.14413499 0.12441553 0.12827811 0.11547062 0.12034966\n",
      " 0.13478349 0.13498679 0.12868469 0.13295385 0.12807481 0.12624517\n",
      " 0.13051433 0.13905265 0.14718439 0.15104696 0.14515145 0.14311852\n",
      " 0.15816223 0.15328319 0.14921732 0.15531612 0.15917869 0.15938199\n",
      " 0.16344786 0.16982009 0.17490466 0.18062206]\n",
      "3 day output [[0.18656296]]\n",
      "4 day input [0.13498679 0.14108559 0.13498679 0.12644847 0.12685505 0.12482212\n",
      " 0.14515145 0.1467778  0.15003049 0.15368977 0.17198618 0.16548079\n",
      " 0.17625534 0.17564546 0.19129904 0.20817239 0.20309006 0.18479366\n",
      " 0.17930474 0.1896727  0.17483228 0.17849156 0.17645863 0.18540354\n",
      " 0.18377719 0.19190892 0.18987599 0.19028258 0.19394186 0.20004066\n",
      " 0.19638138 0.19495832 0.20349665 0.19597479 0.21162838 0.22036999\n",
      " 0.20979874 0.21528766 0.21589754 0.21610083 0.22748526 0.19150234\n",
      " 0.1833706  0.17340923 0.16751372 0.1622281  0.17056312 0.17462899\n",
      " 0.17930474 0.18174426 0.16853019 0.16548079 0.1742224  0.1713763\n",
      " 0.17300264 0.17157959 0.17767839 0.18459036 0.18702988 0.18987599\n",
      " 0.19109575 0.18581012 0.17015654 0.16751372 0.16974995 0.16609067\n",
      " 0.15531612 0.15003049 0.15064037 0.14860744 0.14596463 0.15043708\n",
      " 0.14413499 0.12441553 0.12827811 0.11547062 0.12034966 0.13478349\n",
      " 0.13498679 0.12868469 0.13295385 0.12807481 0.12624517 0.13051433\n",
      " 0.13905265 0.14718439 0.15104696 0.14515145 0.14311852 0.15816223\n",
      " 0.15328319 0.14921732 0.15531612 0.15917869 0.15938199 0.16344786\n",
      " 0.16982009 0.17490466 0.18062206 0.18656296]\n",
      "4 day output [[0.19261613]]\n",
      "5 day input [0.14108559 0.13498679 0.12644847 0.12685505 0.12482212 0.14515145\n",
      " 0.1467778  0.15003049 0.15368977 0.17198618 0.16548079 0.17625534\n",
      " 0.17564546 0.19129904 0.20817239 0.20309006 0.18479366 0.17930474\n",
      " 0.1896727  0.17483228 0.17849156 0.17645863 0.18540354 0.18377719\n",
      " 0.19190892 0.18987599 0.19028258 0.19394186 0.20004066 0.19638138\n",
      " 0.19495832 0.20349665 0.19597479 0.21162838 0.22036999 0.20979874\n",
      " 0.21528766 0.21589754 0.21610083 0.22748526 0.19150234 0.1833706\n",
      " 0.17340923 0.16751372 0.1622281  0.17056312 0.17462899 0.17930474\n",
      " 0.18174426 0.16853019 0.16548079 0.1742224  0.1713763  0.17300264\n",
      " 0.17157959 0.17767839 0.18459036 0.18702988 0.18987599 0.19109575\n",
      " 0.18581012 0.17015654 0.16751372 0.16974995 0.16609067 0.15531612\n",
      " 0.15003049 0.15064037 0.14860744 0.14596463 0.15043708 0.14413499\n",
      " 0.12441553 0.12827811 0.11547062 0.12034966 0.13478349 0.13498679\n",
      " 0.12868469 0.13295385 0.12807481 0.12624517 0.13051433 0.13905265\n",
      " 0.14718439 0.15104696 0.14515145 0.14311852 0.15816223 0.15328319\n",
      " 0.14921732 0.15531612 0.15917869 0.15938199 0.16344786 0.16982009\n",
      " 0.17490466 0.18062206 0.18656296 0.19261613]\n",
      "5 day output [[0.19873928]]\n",
      "6 day input [0.13498679 0.12644847 0.12685505 0.12482212 0.14515145 0.1467778\n",
      " 0.15003049 0.15368977 0.17198618 0.16548079 0.17625534 0.17564546\n",
      " 0.19129904 0.20817239 0.20309006 0.18479366 0.17930474 0.1896727\n",
      " 0.17483228 0.17849156 0.17645863 0.18540354 0.18377719 0.19190892\n",
      " 0.18987599 0.19028258 0.19394186 0.20004066 0.19638138 0.19495832\n",
      " 0.20349665 0.19597479 0.21162838 0.22036999 0.20979874 0.21528766\n",
      " 0.21589754 0.21610083 0.22748526 0.19150234 0.1833706  0.17340923\n",
      " 0.16751372 0.1622281  0.17056312 0.17462899 0.17930474 0.18174426\n",
      " 0.16853019 0.16548079 0.1742224  0.1713763  0.17300264 0.17157959\n",
      " 0.17767839 0.18459036 0.18702988 0.18987599 0.19109575 0.18581012\n",
      " 0.17015654 0.16751372 0.16974995 0.16609067 0.15531612 0.15003049\n",
      " 0.15064037 0.14860744 0.14596463 0.15043708 0.14413499 0.12441553\n",
      " 0.12827811 0.11547062 0.12034966 0.13478349 0.13498679 0.12868469\n",
      " 0.13295385 0.12807481 0.12624517 0.13051433 0.13905265 0.14718439\n",
      " 0.15104696 0.14515145 0.14311852 0.15816223 0.15328319 0.14921732\n",
      " 0.15531612 0.15917869 0.15938199 0.16344786 0.16982009 0.17490466\n",
      " 0.18062206 0.18656296 0.19261613 0.19873928]\n",
      "6 day output [[0.2049156]]\n",
      "7 day input [0.12644847 0.12685505 0.12482212 0.14515145 0.1467778  0.15003049\n",
      " 0.15368977 0.17198618 0.16548079 0.17625534 0.17564546 0.19129904\n",
      " 0.20817239 0.20309006 0.18479366 0.17930474 0.1896727  0.17483228\n",
      " 0.17849156 0.17645863 0.18540354 0.18377719 0.19190892 0.18987599\n",
      " 0.19028258 0.19394186 0.20004066 0.19638138 0.19495832 0.20349665\n",
      " 0.19597479 0.21162838 0.22036999 0.20979874 0.21528766 0.21589754\n",
      " 0.21610083 0.22748526 0.19150234 0.1833706  0.17340923 0.16751372\n",
      " 0.1622281  0.17056312 0.17462899 0.17930474 0.18174426 0.16853019\n",
      " 0.16548079 0.1742224  0.1713763  0.17300264 0.17157959 0.17767839\n",
      " 0.18459036 0.18702988 0.18987599 0.19109575 0.18581012 0.17015654\n",
      " 0.16751372 0.16974995 0.16609067 0.15531612 0.15003049 0.15064037\n",
      " 0.14860744 0.14596463 0.15043708 0.14413499 0.12441553 0.12827811\n",
      " 0.11547062 0.12034966 0.13478349 0.13498679 0.12868469 0.13295385\n",
      " 0.12807481 0.12624517 0.13051433 0.13905265 0.14718439 0.15104696\n",
      " 0.14515145 0.14311852 0.15816223 0.15328319 0.14921732 0.15531612\n",
      " 0.15917869 0.15938199 0.16344786 0.16982009 0.17490466 0.18062206\n",
      " 0.18656296 0.19261613 0.19873928 0.2049156 ]\n",
      "7 day output [[0.21114233]]\n",
      "8 day input [0.12685505 0.12482212 0.14515145 0.1467778  0.15003049 0.15368977\n",
      " 0.17198618 0.16548079 0.17625534 0.17564546 0.19129904 0.20817239\n",
      " 0.20309006 0.18479366 0.17930474 0.1896727  0.17483228 0.17849156\n",
      " 0.17645863 0.18540354 0.18377719 0.19190892 0.18987599 0.19028258\n",
      " 0.19394186 0.20004066 0.19638138 0.19495832 0.20349665 0.19597479\n",
      " 0.21162838 0.22036999 0.20979874 0.21528766 0.21589754 0.21610083\n",
      " 0.22748526 0.19150234 0.1833706  0.17340923 0.16751372 0.1622281\n",
      " 0.17056312 0.17462899 0.17930474 0.18174426 0.16853019 0.16548079\n",
      " 0.1742224  0.1713763  0.17300264 0.17157959 0.17767839 0.18459036\n",
      " 0.18702988 0.18987599 0.19109575 0.18581012 0.17015654 0.16751372\n",
      " 0.16974995 0.16609067 0.15531612 0.15003049 0.15064037 0.14860744\n",
      " 0.14596463 0.15043708 0.14413499 0.12441553 0.12827811 0.11547062\n",
      " 0.12034966 0.13478349 0.13498679 0.12868469 0.13295385 0.12807481\n",
      " 0.12624517 0.13051433 0.13905265 0.14718439 0.15104696 0.14515145\n",
      " 0.14311852 0.15816223 0.15328319 0.14921732 0.15531612 0.15917869\n",
      " 0.15938199 0.16344786 0.16982009 0.17490466 0.18062206 0.18656296\n",
      " 0.19261613 0.19873928 0.2049156  0.21114233]\n",
      "8 day output [[0.21742585]]\n",
      "9 day input [0.12482212 0.14515145 0.1467778  0.15003049 0.15368977 0.17198618\n",
      " 0.16548079 0.17625534 0.17564546 0.19129904 0.20817239 0.20309006\n",
      " 0.18479366 0.17930474 0.1896727  0.17483228 0.17849156 0.17645863\n",
      " 0.18540354 0.18377719 0.19190892 0.18987599 0.19028258 0.19394186\n",
      " 0.20004066 0.19638138 0.19495832 0.20349665 0.19597479 0.21162838\n",
      " 0.22036999 0.20979874 0.21528766 0.21589754 0.21610083 0.22748526\n",
      " 0.19150234 0.1833706  0.17340923 0.16751372 0.1622281  0.17056312\n",
      " 0.17462899 0.17930474 0.18174426 0.16853019 0.16548079 0.1742224\n",
      " 0.1713763  0.17300264 0.17157959 0.17767839 0.18459036 0.18702988\n",
      " 0.18987599 0.19109575 0.18581012 0.17015654 0.16751372 0.16974995\n",
      " 0.16609067 0.15531612 0.15003049 0.15064037 0.14860744 0.14596463\n",
      " 0.15043708 0.14413499 0.12441553 0.12827811 0.11547062 0.12034966\n",
      " 0.13478349 0.13498679 0.12868469 0.13295385 0.12807481 0.12624517\n",
      " 0.13051433 0.13905265 0.14718439 0.15104696 0.14515145 0.14311852\n",
      " 0.15816223 0.15328319 0.14921732 0.15531612 0.15917869 0.15938199\n",
      " 0.16344786 0.16982009 0.17490466 0.18062206 0.18656296 0.19261613\n",
      " 0.19873928 0.2049156  0.21114233 0.21742585]\n",
      "9 day output [[0.22377817]]\n",
      "10 day input [0.14515145 0.1467778  0.15003049 0.15368977 0.17198618 0.16548079\n",
      " 0.17625534 0.17564546 0.19129904 0.20817239 0.20309006 0.18479366\n",
      " 0.17930474 0.1896727  0.17483228 0.17849156 0.17645863 0.18540354\n",
      " 0.18377719 0.19190892 0.18987599 0.19028258 0.19394186 0.20004066\n",
      " 0.19638138 0.19495832 0.20349665 0.19597479 0.21162838 0.22036999\n",
      " 0.20979874 0.21528766 0.21589754 0.21610083 0.22748526 0.19150234\n",
      " 0.1833706  0.17340923 0.16751372 0.1622281  0.17056312 0.17462899\n",
      " 0.17930474 0.18174426 0.16853019 0.16548079 0.1742224  0.1713763\n",
      " 0.17300264 0.17157959 0.17767839 0.18459036 0.18702988 0.18987599\n",
      " 0.19109575 0.18581012 0.17015654 0.16751372 0.16974995 0.16609067\n",
      " 0.15531612 0.15003049 0.15064037 0.14860744 0.14596463 0.15043708\n",
      " 0.14413499 0.12441553 0.12827811 0.11547062 0.12034966 0.13478349\n",
      " 0.13498679 0.12868469 0.13295385 0.12807481 0.12624517 0.13051433\n",
      " 0.13905265 0.14718439 0.15104696 0.14515145 0.14311852 0.15816223\n",
      " 0.15328319 0.14921732 0.15531612 0.15917869 0.15938199 0.16344786\n",
      " 0.16982009 0.17490466 0.18062206 0.18656296 0.19261613 0.19873928\n",
      " 0.2049156  0.21114233 0.21742585 0.22377817]\n",
      "10 day output [[0.23021433]]\n",
      "11 day input [0.1467778  0.15003049 0.15368977 0.17198618 0.16548079 0.17625534\n",
      " 0.17564546 0.19129904 0.20817239 0.20309006 0.18479366 0.17930474\n",
      " 0.1896727  0.17483228 0.17849156 0.17645863 0.18540354 0.18377719\n",
      " 0.19190892 0.18987599 0.19028258 0.19394186 0.20004066 0.19638138\n",
      " 0.19495832 0.20349665 0.19597479 0.21162838 0.22036999 0.20979874\n",
      " 0.21528766 0.21589754 0.21610083 0.22748526 0.19150234 0.1833706\n",
      " 0.17340923 0.16751372 0.1622281  0.17056312 0.17462899 0.17930474\n",
      " 0.18174426 0.16853019 0.16548079 0.1742224  0.1713763  0.17300264\n",
      " 0.17157959 0.17767839 0.18459036 0.18702988 0.18987599 0.19109575\n",
      " 0.18581012 0.17015654 0.16751372 0.16974995 0.16609067 0.15531612\n",
      " 0.15003049 0.15064037 0.14860744 0.14596463 0.15043708 0.14413499\n",
      " 0.12441553 0.12827811 0.11547062 0.12034966 0.13478349 0.13498679\n",
      " 0.12868469 0.13295385 0.12807481 0.12624517 0.13051433 0.13905265\n",
      " 0.14718439 0.15104696 0.14515145 0.14311852 0.15816223 0.15328319\n",
      " 0.14921732 0.15531612 0.15917869 0.15938199 0.16344786 0.16982009\n",
      " 0.17490466 0.18062206 0.18656296 0.19261613 0.19873928 0.2049156\n",
      " 0.21114233 0.21742585 0.22377817 0.23021433]\n",
      "11 day output [[0.23675117]]\n",
      "12 day input [0.15003049 0.15368977 0.17198618 0.16548079 0.17625534 0.17564546\n",
      " 0.19129904 0.20817239 0.20309006 0.18479366 0.17930474 0.1896727\n",
      " 0.17483228 0.17849156 0.17645863 0.18540354 0.18377719 0.19190892\n",
      " 0.18987599 0.19028258 0.19394186 0.20004066 0.19638138 0.19495832\n",
      " 0.20349665 0.19597479 0.21162838 0.22036999 0.20979874 0.21528766\n",
      " 0.21589754 0.21610083 0.22748526 0.19150234 0.1833706  0.17340923\n",
      " 0.16751372 0.1622281  0.17056312 0.17462899 0.17930474 0.18174426\n",
      " 0.16853019 0.16548079 0.1742224  0.1713763  0.17300264 0.17157959\n",
      " 0.17767839 0.18459036 0.18702988 0.18987599 0.19109575 0.18581012\n",
      " 0.17015654 0.16751372 0.16974995 0.16609067 0.15531612 0.15003049\n",
      " 0.15064037 0.14860744 0.14596463 0.15043708 0.14413499 0.12441553\n",
      " 0.12827811 0.11547062 0.12034966 0.13478349 0.13498679 0.12868469\n",
      " 0.13295385 0.12807481 0.12624517 0.13051433 0.13905265 0.14718439\n",
      " 0.15104696 0.14515145 0.14311852 0.15816223 0.15328319 0.14921732\n",
      " 0.15531612 0.15917869 0.15938199 0.16344786 0.16982009 0.17490466\n",
      " 0.18062206 0.18656296 0.19261613 0.19873928 0.2049156  0.21114233\n",
      " 0.21742585 0.22377817 0.23021433 0.23675117]\n",
      "12 day output [[0.24340612]]\n",
      "13 day input [0.15368977 0.17198618 0.16548079 0.17625534 0.17564546 0.19129904\n",
      " 0.20817239 0.20309006 0.18479366 0.17930474 0.1896727  0.17483228\n",
      " 0.17849156 0.17645863 0.18540354 0.18377719 0.19190892 0.18987599\n",
      " 0.19028258 0.19394186 0.20004066 0.19638138 0.19495832 0.20349665\n",
      " 0.19597479 0.21162838 0.22036999 0.20979874 0.21528766 0.21589754\n",
      " 0.21610083 0.22748526 0.19150234 0.1833706  0.17340923 0.16751372\n",
      " 0.1622281  0.17056312 0.17462899 0.17930474 0.18174426 0.16853019\n",
      " 0.16548079 0.1742224  0.1713763  0.17300264 0.17157959 0.17767839\n",
      " 0.18459036 0.18702988 0.18987599 0.19109575 0.18581012 0.17015654\n",
      " 0.16751372 0.16974995 0.16609067 0.15531612 0.15003049 0.15064037\n",
      " 0.14860744 0.14596463 0.15043708 0.14413499 0.12441553 0.12827811\n",
      " 0.11547062 0.12034966 0.13478349 0.13498679 0.12868469 0.13295385\n",
      " 0.12807481 0.12624517 0.13051433 0.13905265 0.14718439 0.15104696\n",
      " 0.14515145 0.14311852 0.15816223 0.15328319 0.14921732 0.15531612\n",
      " 0.15917869 0.15938199 0.16344786 0.16982009 0.17490466 0.18062206\n",
      " 0.18656296 0.19261613 0.19873928 0.2049156  0.21114233 0.21742585\n",
      " 0.22377817 0.23021433 0.23675117 0.24340612]\n",
      "13 day output [[0.2501035]]\n",
      "14 day input [0.17198618 0.16548079 0.17625534 0.17564546 0.19129904 0.20817239\n",
      " 0.20309006 0.18479366 0.17930474 0.1896727  0.17483228 0.17849156\n",
      " 0.17645863 0.18540354 0.18377719 0.19190892 0.18987599 0.19028258\n",
      " 0.19394186 0.20004066 0.19638138 0.19495832 0.20349665 0.19597479\n",
      " 0.21162838 0.22036999 0.20979874 0.21528766 0.21589754 0.21610083\n",
      " 0.22748526 0.19150234 0.1833706  0.17340923 0.16751372 0.1622281\n",
      " 0.17056312 0.17462899 0.17930474 0.18174426 0.16853019 0.16548079\n",
      " 0.1742224  0.1713763  0.17300264 0.17157959 0.17767839 0.18459036\n",
      " 0.18702988 0.18987599 0.19109575 0.18581012 0.17015654 0.16751372\n",
      " 0.16974995 0.16609067 0.15531612 0.15003049 0.15064037 0.14860744\n",
      " 0.14596463 0.15043708 0.14413499 0.12441553 0.12827811 0.11547062\n",
      " 0.12034966 0.13478349 0.13498679 0.12868469 0.13295385 0.12807481\n",
      " 0.12624517 0.13051433 0.13905265 0.14718439 0.15104696 0.14515145\n",
      " 0.14311852 0.15816223 0.15328319 0.14921732 0.15531612 0.15917869\n",
      " 0.15938199 0.16344786 0.16982009 0.17490466 0.18062206 0.18656296\n",
      " 0.19261613 0.19873928 0.2049156  0.21114233 0.21742585 0.22377817\n",
      " 0.23021433 0.23675117 0.24340612 0.2501035 ]\n",
      "14 day output [[0.25688532]]\n",
      "15 day input [0.16548079 0.17625534 0.17564546 0.19129904 0.20817239 0.20309006\n",
      " 0.18479366 0.17930474 0.1896727  0.17483228 0.17849156 0.17645863\n",
      " 0.18540354 0.18377719 0.19190892 0.18987599 0.19028258 0.19394186\n",
      " 0.20004066 0.19638138 0.19495832 0.20349665 0.19597479 0.21162838\n",
      " 0.22036999 0.20979874 0.21528766 0.21589754 0.21610083 0.22748526\n",
      " 0.19150234 0.1833706  0.17340923 0.16751372 0.1622281  0.17056312\n",
      " 0.17462899 0.17930474 0.18174426 0.16853019 0.16548079 0.1742224\n",
      " 0.1713763  0.17300264 0.17157959 0.17767839 0.18459036 0.18702988\n",
      " 0.18987599 0.19109575 0.18581012 0.17015654 0.16751372 0.16974995\n",
      " 0.16609067 0.15531612 0.15003049 0.15064037 0.14860744 0.14596463\n",
      " 0.15043708 0.14413499 0.12441553 0.12827811 0.11547062 0.12034966\n",
      " 0.13478349 0.13498679 0.12868469 0.13295385 0.12807481 0.12624517\n",
      " 0.13051433 0.13905265 0.14718439 0.15104696 0.14515145 0.14311852\n",
      " 0.15816223 0.15328319 0.14921732 0.15531612 0.15917869 0.15938199\n",
      " 0.16344786 0.16982009 0.17490466 0.18062206 0.18656296 0.19261613\n",
      " 0.19873928 0.2049156  0.21114233 0.21742585 0.22377817 0.23021433\n",
      " 0.23675117 0.24340612 0.2501035  0.25688532]\n",
      "15 day output [[0.26382598]]\n",
      "16 day input [0.17625534 0.17564546 0.19129904 0.20817239 0.20309006 0.18479366\n",
      " 0.17930474 0.1896727  0.17483228 0.17849156 0.17645863 0.18540354\n",
      " 0.18377719 0.19190892 0.18987599 0.19028258 0.19394186 0.20004066\n",
      " 0.19638138 0.19495832 0.20349665 0.19597479 0.21162838 0.22036999\n",
      " 0.20979874 0.21528766 0.21589754 0.21610083 0.22748526 0.19150234\n",
      " 0.1833706  0.17340923 0.16751372 0.1622281  0.17056312 0.17462899\n",
      " 0.17930474 0.18174426 0.16853019 0.16548079 0.1742224  0.1713763\n",
      " 0.17300264 0.17157959 0.17767839 0.18459036 0.18702988 0.18987599\n",
      " 0.19109575 0.18581012 0.17015654 0.16751372 0.16974995 0.16609067\n",
      " 0.15531612 0.15003049 0.15064037 0.14860744 0.14596463 0.15043708\n",
      " 0.14413499 0.12441553 0.12827811 0.11547062 0.12034966 0.13478349\n",
      " 0.13498679 0.12868469 0.13295385 0.12807481 0.12624517 0.13051433\n",
      " 0.13905265 0.14718439 0.15104696 0.14515145 0.14311852 0.15816223\n",
      " 0.15328319 0.14921732 0.15531612 0.15917869 0.15938199 0.16344786\n",
      " 0.16982009 0.17490466 0.18062206 0.18656296 0.19261613 0.19873928\n",
      " 0.2049156  0.21114233 0.21742585 0.22377817 0.23021433 0.23675117\n",
      " 0.24340612 0.2501035  0.25688532 0.26382598]\n",
      "16 day output [[0.2709157]]\n",
      "17 day input [0.17564546 0.19129904 0.20817239 0.20309006 0.18479366 0.17930474\n",
      " 0.1896727  0.17483228 0.17849156 0.17645863 0.18540354 0.18377719\n",
      " 0.19190892 0.18987599 0.19028258 0.19394186 0.20004066 0.19638138\n",
      " 0.19495832 0.20349665 0.19597479 0.21162838 0.22036999 0.20979874\n",
      " 0.21528766 0.21589754 0.21610083 0.22748526 0.19150234 0.1833706\n",
      " 0.17340923 0.16751372 0.1622281  0.17056312 0.17462899 0.17930474\n",
      " 0.18174426 0.16853019 0.16548079 0.1742224  0.1713763  0.17300264\n",
      " 0.17157959 0.17767839 0.18459036 0.18702988 0.18987599 0.19109575\n",
      " 0.18581012 0.17015654 0.16751372 0.16974995 0.16609067 0.15531612\n",
      " 0.15003049 0.15064037 0.14860744 0.14596463 0.15043708 0.14413499\n",
      " 0.12441553 0.12827811 0.11547062 0.12034966 0.13478349 0.13498679\n",
      " 0.12868469 0.13295385 0.12807481 0.12624517 0.13051433 0.13905265\n",
      " 0.14718439 0.15104696 0.14515145 0.14311852 0.15816223 0.15328319\n",
      " 0.14921732 0.15531612 0.15917869 0.15938199 0.16344786 0.16982009\n",
      " 0.17490466 0.18062206 0.18656296 0.19261613 0.19873928 0.2049156\n",
      " 0.21114233 0.21742585 0.22377817 0.23021433 0.23675117 0.24340612\n",
      " 0.2501035  0.25688532 0.26382598 0.27091569]\n",
      "17 day output [[0.27818063]]\n",
      "18 day input [0.19129904 0.20817239 0.20309006 0.18479366 0.17930474 0.1896727\n",
      " 0.17483228 0.17849156 0.17645863 0.18540354 0.18377719 0.19190892\n",
      " 0.18987599 0.19028258 0.19394186 0.20004066 0.19638138 0.19495832\n",
      " 0.20349665 0.19597479 0.21162838 0.22036999 0.20979874 0.21528766\n",
      " 0.21589754 0.21610083 0.22748526 0.19150234 0.1833706  0.17340923\n",
      " 0.16751372 0.1622281  0.17056312 0.17462899 0.17930474 0.18174426\n",
      " 0.16853019 0.16548079 0.1742224  0.1713763  0.17300264 0.17157959\n",
      " 0.17767839 0.18459036 0.18702988 0.18987599 0.19109575 0.18581012\n",
      " 0.17015654 0.16751372 0.16974995 0.16609067 0.15531612 0.15003049\n",
      " 0.15064037 0.14860744 0.14596463 0.15043708 0.14413499 0.12441553\n",
      " 0.12827811 0.11547062 0.12034966 0.13478349 0.13498679 0.12868469\n",
      " 0.13295385 0.12807481 0.12624517 0.13051433 0.13905265 0.14718439\n",
      " 0.15104696 0.14515145 0.14311852 0.15816223 0.15328319 0.14921732\n",
      " 0.15531612 0.15917869 0.15938199 0.16344786 0.16982009 0.17490466\n",
      " 0.18062206 0.18656296 0.19261613 0.19873928 0.2049156  0.21114233\n",
      " 0.21742585 0.22377817 0.23021433 0.23675117 0.24340612 0.2501035\n",
      " 0.25688532 0.26382598 0.27091569 0.27818063]\n",
      "18 day output [[0.28563872]]\n",
      "19 day input [0.20817239 0.20309006 0.18479366 0.17930474 0.1896727  0.17483228\n",
      " 0.17849156 0.17645863 0.18540354 0.18377719 0.19190892 0.18987599\n",
      " 0.19028258 0.19394186 0.20004066 0.19638138 0.19495832 0.20349665\n",
      " 0.19597479 0.21162838 0.22036999 0.20979874 0.21528766 0.21589754\n",
      " 0.21610083 0.22748526 0.19150234 0.1833706  0.17340923 0.16751372\n",
      " 0.1622281  0.17056312 0.17462899 0.17930474 0.18174426 0.16853019\n",
      " 0.16548079 0.1742224  0.1713763  0.17300264 0.17157959 0.17767839\n",
      " 0.18459036 0.18702988 0.18987599 0.19109575 0.18581012 0.17015654\n",
      " 0.16751372 0.16974995 0.16609067 0.15531612 0.15003049 0.15064037\n",
      " 0.14860744 0.14596463 0.15043708 0.14413499 0.12441553 0.12827811\n",
      " 0.11547062 0.12034966 0.13478349 0.13498679 0.12868469 0.13295385\n",
      " 0.12807481 0.12624517 0.13051433 0.13905265 0.14718439 0.15104696\n",
      " 0.14515145 0.14311852 0.15816223 0.15328319 0.14921732 0.15531612\n",
      " 0.15917869 0.15938199 0.16344786 0.16982009 0.17490466 0.18062206\n",
      " 0.18656296 0.19261613 0.19873928 0.2049156  0.21114233 0.21742585\n",
      " 0.22377817 0.23021433 0.23675117 0.24340612 0.2501035  0.25688532\n",
      " 0.26382598 0.27091569 0.27818063 0.28563872]\n",
      "19 day output [[0.29330626]]\n",
      "20 day input [0.20309006 0.18479366 0.17930474 0.1896727  0.17483228 0.17849156\n",
      " 0.17645863 0.18540354 0.18377719 0.19190892 0.18987599 0.19028258\n",
      " 0.19394186 0.20004066 0.19638138 0.19495832 0.20349665 0.19597479\n",
      " 0.21162838 0.22036999 0.20979874 0.21528766 0.21589754 0.21610083\n",
      " 0.22748526 0.19150234 0.1833706  0.17340923 0.16751372 0.1622281\n",
      " 0.17056312 0.17462899 0.17930474 0.18174426 0.16853019 0.16548079\n",
      " 0.1742224  0.1713763  0.17300264 0.17157959 0.17767839 0.18459036\n",
      " 0.18702988 0.18987599 0.19109575 0.18581012 0.17015654 0.16751372\n",
      " 0.16974995 0.16609067 0.15531612 0.15003049 0.15064037 0.14860744\n",
      " 0.14596463 0.15043708 0.14413499 0.12441553 0.12827811 0.11547062\n",
      " 0.12034966 0.13478349 0.13498679 0.12868469 0.13295385 0.12807481\n",
      " 0.12624517 0.13051433 0.13905265 0.14718439 0.15104696 0.14515145\n",
      " 0.14311852 0.15816223 0.15328319 0.14921732 0.15531612 0.15917869\n",
      " 0.15938199 0.16344786 0.16982009 0.17490466 0.18062206 0.18656296\n",
      " 0.19261613 0.19873928 0.2049156  0.21114233 0.21742585 0.22377817\n",
      " 0.23021433 0.23675117 0.24340612 0.2501035  0.25688532 0.26382598\n",
      " 0.27091569 0.27818063 0.28563872 0.29330626]\n",
      "20 day output [[0.30119914]]\n",
      "21 day input [0.18479366 0.17930474 0.1896727  0.17483228 0.17849156 0.17645863\n",
      " 0.18540354 0.18377719 0.19190892 0.18987599 0.19028258 0.19394186\n",
      " 0.20004066 0.19638138 0.19495832 0.20349665 0.19597479 0.21162838\n",
      " 0.22036999 0.20979874 0.21528766 0.21589754 0.21610083 0.22748526\n",
      " 0.19150234 0.1833706  0.17340923 0.16751372 0.1622281  0.17056312\n",
      " 0.17462899 0.17930474 0.18174426 0.16853019 0.16548079 0.1742224\n",
      " 0.1713763  0.17300264 0.17157959 0.17767839 0.18459036 0.18702988\n",
      " 0.18987599 0.19109575 0.18581012 0.17015654 0.16751372 0.16974995\n",
      " 0.16609067 0.15531612 0.15003049 0.15064037 0.14860744 0.14596463\n",
      " 0.15043708 0.14413499 0.12441553 0.12827811 0.11547062 0.12034966\n",
      " 0.13478349 0.13498679 0.12868469 0.13295385 0.12807481 0.12624517\n",
      " 0.13051433 0.13905265 0.14718439 0.15104696 0.14515145 0.14311852\n",
      " 0.15816223 0.15328319 0.14921732 0.15531612 0.15917869 0.15938199\n",
      " 0.16344786 0.16982009 0.17490466 0.18062206 0.18656296 0.19261613\n",
      " 0.19873928 0.2049156  0.21114233 0.21742585 0.22377817 0.23021433\n",
      " 0.23675117 0.24340612 0.2501035  0.25688532 0.26382598 0.27091569\n",
      " 0.27818063 0.28563872 0.29330626 0.30119914]\n",
      "21 day output [[0.3093339]]\n",
      "22 day input [0.17930474 0.1896727  0.17483228 0.17849156 0.17645863 0.18540354\n",
      " 0.18377719 0.19190892 0.18987599 0.19028258 0.19394186 0.20004066\n",
      " 0.19638138 0.19495832 0.20349665 0.19597479 0.21162838 0.22036999\n",
      " 0.20979874 0.21528766 0.21589754 0.21610083 0.22748526 0.19150234\n",
      " 0.1833706  0.17340923 0.16751372 0.1622281  0.17056312 0.17462899\n",
      " 0.17930474 0.18174426 0.16853019 0.16548079 0.1742224  0.1713763\n",
      " 0.17300264 0.17157959 0.17767839 0.18459036 0.18702988 0.18987599\n",
      " 0.19109575 0.18581012 0.17015654 0.16751372 0.16974995 0.16609067\n",
      " 0.15531612 0.15003049 0.15064037 0.14860744 0.14596463 0.15043708\n",
      " 0.14413499 0.12441553 0.12827811 0.11547062 0.12034966 0.13478349\n",
      " 0.13498679 0.12868469 0.13295385 0.12807481 0.12624517 0.13051433\n",
      " 0.13905265 0.14718439 0.15104696 0.14515145 0.14311852 0.15816223\n",
      " 0.15328319 0.14921732 0.15531612 0.15917869 0.15938199 0.16344786\n",
      " 0.16982009 0.17490466 0.18062206 0.18656296 0.19261613 0.19873928\n",
      " 0.2049156  0.21114233 0.21742585 0.22377817 0.23021433 0.23675117\n",
      " 0.24340612 0.2501035  0.25688532 0.26382598 0.27091569 0.27818063\n",
      " 0.28563872 0.29330626 0.30119914 0.30933389]\n",
      "22 day output [[0.3177286]]\n",
      "23 day input [0.1896727  0.17483228 0.17849156 0.17645863 0.18540354 0.18377719\n",
      " 0.19190892 0.18987599 0.19028258 0.19394186 0.20004066 0.19638138\n",
      " 0.19495832 0.20349665 0.19597479 0.21162838 0.22036999 0.20979874\n",
      " 0.21528766 0.21589754 0.21610083 0.22748526 0.19150234 0.1833706\n",
      " 0.17340923 0.16751372 0.1622281  0.17056312 0.17462899 0.17930474\n",
      " 0.18174426 0.16853019 0.16548079 0.1742224  0.1713763  0.17300264\n",
      " 0.17157959 0.17767839 0.18459036 0.18702988 0.18987599 0.19109575\n",
      " 0.18581012 0.17015654 0.16751372 0.16974995 0.16609067 0.15531612\n",
      " 0.15003049 0.15064037 0.14860744 0.14596463 0.15043708 0.14413499\n",
      " 0.12441553 0.12827811 0.11547062 0.12034966 0.13478349 0.13498679\n",
      " 0.12868469 0.13295385 0.12807481 0.12624517 0.13051433 0.13905265\n",
      " 0.14718439 0.15104696 0.14515145 0.14311852 0.15816223 0.15328319\n",
      " 0.14921732 0.15531612 0.15917869 0.15938199 0.16344786 0.16982009\n",
      " 0.17490466 0.18062206 0.18656296 0.19261613 0.19873928 0.2049156\n",
      " 0.21114233 0.21742585 0.22377817 0.23021433 0.23675117 0.24340612\n",
      " 0.2501035  0.25688532 0.26382598 0.27091569 0.27818063 0.28563872\n",
      " 0.29330626 0.30119914 0.30933389 0.31772861]\n",
      "23 day output [[0.32611087]]\n",
      "24 day input [0.17483228 0.17849156 0.17645863 0.18540354 0.18377719 0.19190892\n",
      " 0.18987599 0.19028258 0.19394186 0.20004066 0.19638138 0.19495832\n",
      " 0.20349665 0.19597479 0.21162838 0.22036999 0.20979874 0.21528766\n",
      " 0.21589754 0.21610083 0.22748526 0.19150234 0.1833706  0.17340923\n",
      " 0.16751372 0.1622281  0.17056312 0.17462899 0.17930474 0.18174426\n",
      " 0.16853019 0.16548079 0.1742224  0.1713763  0.17300264 0.17157959\n",
      " 0.17767839 0.18459036 0.18702988 0.18987599 0.19109575 0.18581012\n",
      " 0.17015654 0.16751372 0.16974995 0.16609067 0.15531612 0.15003049\n",
      " 0.15064037 0.14860744 0.14596463 0.15043708 0.14413499 0.12441553\n",
      " 0.12827811 0.11547062 0.12034966 0.13478349 0.13498679 0.12868469\n",
      " 0.13295385 0.12807481 0.12624517 0.13051433 0.13905265 0.14718439\n",
      " 0.15104696 0.14515145 0.14311852 0.15816223 0.15328319 0.14921732\n",
      " 0.15531612 0.15917869 0.15938199 0.16344786 0.16982009 0.17490466\n",
      " 0.18062206 0.18656296 0.19261613 0.19873928 0.2049156  0.21114233\n",
      " 0.21742585 0.22377817 0.23021433 0.23675117 0.24340612 0.2501035\n",
      " 0.25688532 0.26382598 0.27091569 0.27818063 0.28563872 0.29330626\n",
      " 0.30119914 0.30933389 0.31772861 0.32611087]\n",
      "24 day output [[0.33434692]]\n",
      "25 day input [0.17849156 0.17645863 0.18540354 0.18377719 0.19190892 0.18987599\n",
      " 0.19028258 0.19394186 0.20004066 0.19638138 0.19495832 0.20349665\n",
      " 0.19597479 0.21162838 0.22036999 0.20979874 0.21528766 0.21589754\n",
      " 0.21610083 0.22748526 0.19150234 0.1833706  0.17340923 0.16751372\n",
      " 0.1622281  0.17056312 0.17462899 0.17930474 0.18174426 0.16853019\n",
      " 0.16548079 0.1742224  0.1713763  0.17300264 0.17157959 0.17767839\n",
      " 0.18459036 0.18702988 0.18987599 0.19109575 0.18581012 0.17015654\n",
      " 0.16751372 0.16974995 0.16609067 0.15531612 0.15003049 0.15064037\n",
      " 0.14860744 0.14596463 0.15043708 0.14413499 0.12441553 0.12827811\n",
      " 0.11547062 0.12034966 0.13478349 0.13498679 0.12868469 0.13295385\n",
      " 0.12807481 0.12624517 0.13051433 0.13905265 0.14718439 0.15104696\n",
      " 0.14515145 0.14311852 0.15816223 0.15328319 0.14921732 0.15531612\n",
      " 0.15917869 0.15938199 0.16344786 0.16982009 0.17490466 0.18062206\n",
      " 0.18656296 0.19261613 0.19873928 0.2049156  0.21114233 0.21742585\n",
      " 0.22377817 0.23021433 0.23675117 0.24340612 0.2501035  0.25688532\n",
      " 0.26382598 0.27091569 0.27818063 0.28563872 0.29330626 0.30119914\n",
      " 0.30933389 0.31772861 0.32611087 0.33434692]\n",
      "25 day output [[0.3417336]]\n",
      "26 day input [0.17645863 0.18540354 0.18377719 0.19190892 0.18987599 0.19028258\n",
      " 0.19394186 0.20004066 0.19638138 0.19495832 0.20349665 0.19597479\n",
      " 0.21162838 0.22036999 0.20979874 0.21528766 0.21589754 0.21610083\n",
      " 0.22748526 0.19150234 0.1833706  0.17340923 0.16751372 0.1622281\n",
      " 0.17056312 0.17462899 0.17930474 0.18174426 0.16853019 0.16548079\n",
      " 0.1742224  0.1713763  0.17300264 0.17157959 0.17767839 0.18459036\n",
      " 0.18702988 0.18987599 0.19109575 0.18581012 0.17015654 0.16751372\n",
      " 0.16974995 0.16609067 0.15531612 0.15003049 0.15064037 0.14860744\n",
      " 0.14596463 0.15043708 0.14413499 0.12441553 0.12827811 0.11547062\n",
      " 0.12034966 0.13478349 0.13498679 0.12868469 0.13295385 0.12807481\n",
      " 0.12624517 0.13051433 0.13905265 0.14718439 0.15104696 0.14515145\n",
      " 0.14311852 0.15816223 0.15328319 0.14921732 0.15531612 0.15917869\n",
      " 0.15938199 0.16344786 0.16982009 0.17490466 0.18062206 0.18656296\n",
      " 0.19261613 0.19873928 0.2049156  0.21114233 0.21742585 0.22377817\n",
      " 0.23021433 0.23675117 0.24340612 0.2501035  0.25688532 0.26382598\n",
      " 0.27091569 0.27818063 0.28563872 0.29330626 0.30119914 0.30933389\n",
      " 0.31772861 0.32611087 0.33434692 0.3417336 ]\n",
      "26 day output [[0.34913483]]\n",
      "27 day input [0.18540354 0.18377719 0.19190892 0.18987599 0.19028258 0.19394186\n",
      " 0.20004066 0.19638138 0.19495832 0.20349665 0.19597479 0.21162838\n",
      " 0.22036999 0.20979874 0.21528766 0.21589754 0.21610083 0.22748526\n",
      " 0.19150234 0.1833706  0.17340923 0.16751372 0.1622281  0.17056312\n",
      " 0.17462899 0.17930474 0.18174426 0.16853019 0.16548079 0.1742224\n",
      " 0.1713763  0.17300264 0.17157959 0.17767839 0.18459036 0.18702988\n",
      " 0.18987599 0.19109575 0.18581012 0.17015654 0.16751372 0.16974995\n",
      " 0.16609067 0.15531612 0.15003049 0.15064037 0.14860744 0.14596463\n",
      " 0.15043708 0.14413499 0.12441553 0.12827811 0.11547062 0.12034966\n",
      " 0.13478349 0.13498679 0.12868469 0.13295385 0.12807481 0.12624517\n",
      " 0.13051433 0.13905265 0.14718439 0.15104696 0.14515145 0.14311852\n",
      " 0.15816223 0.15328319 0.14921732 0.15531612 0.15917869 0.15938199\n",
      " 0.16344786 0.16982009 0.17490466 0.18062206 0.18656296 0.19261613\n",
      " 0.19873928 0.2049156  0.21114233 0.21742585 0.22377817 0.23021433\n",
      " 0.23675117 0.24340612 0.2501035  0.25688532 0.26382598 0.27091569\n",
      " 0.27818063 0.28563872 0.29330626 0.30119914 0.30933389 0.31772861\n",
      " 0.32611087 0.33434692 0.3417336  0.34913483]\n",
      "27 day output [[0.35647607]]\n",
      "[[0.16982008516788483], [0.17490465939044952], [0.18062205612659454], [0.18656295537948608], [0.19261613488197327], [0.19873927533626556], [0.2049155980348587], [0.21114233136177063], [0.2174258530139923], [0.22377817332744598], [0.23021432757377625], [0.23675116896629333], [0.24340611696243286], [0.25010350346565247], [0.2568853199481964], [0.2638259828090668], [0.270915687084198], [0.27818062901496887], [0.2856387197971344], [0.29330626130104065], [0.30119913816452026], [0.3093338906764984], [0.31772860884666443], [0.3261108696460724], [0.3343469202518463], [0.3417336046695709], [0.3491348326206207], [0.3564760684967041]]\n"
     ]
    }
   ],
   "source": [
    "temp_input = list(x_input)\n",
    "temp_input = temp_input[0].tolist()\n",
    "\n",
    "lst_output=[]\n",
    "n_steps=100\n",
    "nextNumberOfDays = 28\n",
    "i=0\n",
    "\n",
    "while(i<nextNumberOfDays):\n",
    "    \n",
    "    if(len(temp_input)>100):\n",
    "        x_input=np.array(temp_input[1:])\n",
    "        print(\"{} day input {}\".format(i,x_input))\n",
    "        x_input=x_input.reshape(1,-1)\n",
    "        x_input = x_input.reshape((1, n_steps, 1))\n",
    "        yhat = model.predict(x_input, verbose=0)\n",
    "        print(\"{} day output {}\".format(i,yhat))\n",
    "        temp_input.extend(yhat[0].tolist())\n",
    "        temp_input=temp_input[1:]\n",
    "        lst_output.extend(yhat.tolist())\n",
    "        i=i+1\n",
    "    else:\n",
    "        x_input = x_input.reshape((1, n_steps,1))\n",
    "        yhat = model.predict(x_input, verbose=0)\n",
    "        print(yhat[0])\n",
    "        temp_input.extend(yhat[0].tolist())\n",
    "        print(len(temp_input))\n",
    "        lst_output.extend(yhat.tolist())\n",
    "        i=i+1\n",
    "    \n",
    "print(lst_output)"
   ]
  },
  {
   "cell_type": "code",
   "execution_count": 66,
   "metadata": {},
   "outputs": [],
   "source": [
    "day_new = np.arange(1,101)\n",
    "day_pred = np.arange(101,129)"
   ]
  },
  {
   "cell_type": "code",
   "execution_count": 67,
   "metadata": {},
   "outputs": [
    {
     "data": {
      "text/plain": [
       "(100,)"
      ]
     },
     "execution_count": 67,
     "metadata": {},
     "output_type": "execute_result"
    }
   ],
   "source": [
    "day_new.shape"
   ]
  },
  {
   "cell_type": "code",
   "execution_count": 68,
   "metadata": {},
   "outputs": [
    {
     "data": {
      "text/plain": [
       "(28,)"
      ]
     },
     "execution_count": 68,
     "metadata": {},
     "output_type": "execute_result"
    }
   ],
   "source": [
    "day_pred.shape"
   ]
  },
  {
   "cell_type": "code",
   "execution_count": 69,
   "metadata": {},
   "outputs": [
    {
     "data": {
      "text/plain": [
       "2035"
      ]
     },
     "execution_count": 69,
     "metadata": {},
     "output_type": "execute_result"
    }
   ],
   "source": [
    "len(df_high)"
   ]
  },
  {
   "cell_type": "code",
   "execution_count": 70,
   "metadata": {},
   "outputs": [
    {
     "data": {
      "text/plain": [
       "[<matplotlib.lines.Line2D at 0x1eb18e20a60>]"
      ]
     },
     "execution_count": 70,
     "metadata": {},
     "output_type": "execute_result"
    },
    {
     "data": {
      "image/png": "[encoded data removed]",
      "text/plain": [
       "<Figure size 640x480 with 1 Axes>"
      ]
     },
     "metadata": {},
     "output_type": "display_data"
    }
   ],
   "source": [
    "plt.plot(day_new, scaler.inverse_transform(df_high[1935:]))\n",
    "plt.plot(day_pred, scaler.inverse_transform(lst_output))"
   ]
  },
  {
   "cell_type": "code",
   "execution_count": 71,
   "metadata": {},
   "outputs": [
    {
     "data": {
      "text/plain": [
       "[<matplotlib.lines.Line2D at 0x1eb18e4a640>]"
      ]
     },
     "execution_count": 71,
     "metadata": {},
     "output_type": "execute_result"
    },
    {
     "data": {
      "image/png": "[encoded data removed]",
      "text/plain": [
       "<Figure size 640x480 with 1 Axes>"
      ]
     },
     "metadata": {},
     "output_type": "display_data"
    }
   ],
   "source": [
    "data_new = df_high.tolist()\n",
    "data_new.extend(lst_output)\n",
    "plt.plot(data_new[2000:])"
   ]
  },
  {
   "cell_type": "code",
   "execution_count": 72,
   "metadata": {},
   "outputs": [],
   "source": [
    "data_new =scaler.inverse_transform(data_new).tolist()"
   ]
  },
  {
   "cell_type": "code",
   "execution_count": 73,
   "metadata": {},
   "outputs": [
    {
     "data": {
      "text/plain": [
       "[<matplotlib.lines.Line2D at 0x1eb1094ae20>]"
      ]
     },
     "execution_count": 73,
     "metadata": {},
     "output_type": "execute_result"
    },
    {
     "data": {
      "image/png": "[encoded data removed]",
      "text/plain": [
       "<Figure size 640x480 with 1 Axes>"
      ]
     },
     "metadata": {},
     "output_type": "display_data"
    }
   ],
   "source": [
    "plt.plot(data_new)"
   ]
  }
 ],
 "metadata": {
  "kernelspec": {
   "display_name": "base",
   "language": "python",
   "name": "python3"
  },
  "language_info": {
   "codemirror_mode": {
    "name": "ipython",
    "version": 3
   },
   "file_extension": ".py",
   "mimetype": "text/x-python",
   "name": "python",
   "nbconvert_exporter": "python",
   "pygments_lexer": "ipython3",
   "version": "3.9.15"
  },
  "orig_nbformat": 4
 },
 "nbformat": 4,
 "nbformat_minor": 2
}
